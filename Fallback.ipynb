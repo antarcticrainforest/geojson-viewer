{
 "cells": [
  {
   "cell_type": "markdown",
   "id": "66c6a6f1",
   "metadata": {},
   "source": [
    "# Geojson viewer\n",
    "This mode is a fallback if the installation of the `geojson-viewer` packages fails. This notebook can run an a docker container, such as a binder instance. To launch the code simply execute the the cell below:"
   ]
  },
  {
   "cell_type": "code",
   "execution_count": null,
   "id": "35126b8b",
   "metadata": {},
   "outputs": [],
   "source": [
    "debug = True\n",
    "port = 5080"
   ]
  },
  {
   "cell_type": "code",
   "execution_count": null,
   "id": "06cd2e4a",
   "metadata": {},
   "outputs": [],
   "source": [
    "import dash\n",
    "from pathlib import Path\n",
    "from jupyter_dash import JupyterDash\n",
    "# Not very pretty, but a simple way to make the goejson_viewer code work without modifications\n",
    "dash.Dash = JupyterDash\n",
    "import geojson_viewer"
   ]
  },
  {
   "cell_type": "code",
   "execution_count": null,
   "id": "283af5c1",
   "metadata": {},
   "outputs": [],
   "source": [
    "geojson_viewer.run_server(debug_mode=debug, port=port, mode=\"inline\")"
   ]
  }
 ],
 "metadata": {
  "kernelspec": {
   "display_name": "geojson-viewer",
   "language": "python",
   "name": "geojson-viewer"
  },
  "language_info": {
   "codemirror_mode": {
    "name": "ipython",
    "version": 3
   },
   "file_extension": ".py",
   "mimetype": "text/x-python",
   "name": "python",
   "nbconvert_exporter": "python",
   "pygments_lexer": "ipython3",
   "version": "3.10.6"
  }
 },
 "nbformat": 4,
 "nbformat_minor": 5
}
